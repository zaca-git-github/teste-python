{
 "cells": [
  {
   "cell_type": "code",
   "execution_count": 4,
   "id": "af0fe023",
   "metadata": {},
   "outputs": [],
   "source": [
    "dicionario = {\n",
    "    'produto' : ['coca', 'pepsi', 'guarana', 'suco'],\n",
    "    'quantidade' : [150, 130, 100, 76],\n",
    "    'preco' : [1.5, 1.5, 1.2, 3],\n",
    "    'custo' : [129.99, 109.99, 89.99, 119.99],\n",
    "    }"
   ]
  },
  {
   "cell_type": "code",
   "execution_count": 5,
   "id": "c632d4d0",
   "metadata": {},
   "outputs": [
    {
     "data": {
      "text/html": [
       "<div>\n",
       "<style scoped>\n",
       "    .dataframe tbody tr th:only-of-type {\n",
       "        vertical-align: middle;\n",
       "    }\n",
       "\n",
       "    .dataframe tbody tr th {\n",
       "        vertical-align: top;\n",
       "    }\n",
       "\n",
       "    .dataframe thead th {\n",
       "        text-align: right;\n",
       "    }\n",
       "</style>\n",
       "<table border=\"1\" class=\"dataframe\">\n",
       "  <thead>\n",
       "    <tr style=\"text-align: right;\">\n",
       "      <th></th>\n",
       "      <th>produto</th>\n",
       "      <th>quantidade</th>\n",
       "      <th>preco</th>\n",
       "      <th>custo</th>\n",
       "    </tr>\n",
       "  </thead>\n",
       "  <tbody>\n",
       "    <tr>\n",
       "      <th>0</th>\n",
       "      <td>coca</td>\n",
       "      <td>150</td>\n",
       "      <td>1.5</td>\n",
       "      <td>129.99</td>\n",
       "    </tr>\n",
       "    <tr>\n",
       "      <th>1</th>\n",
       "      <td>pepsi</td>\n",
       "      <td>130</td>\n",
       "      <td>1.5</td>\n",
       "      <td>109.99</td>\n",
       "    </tr>\n",
       "    <tr>\n",
       "      <th>2</th>\n",
       "      <td>guarana</td>\n",
       "      <td>100</td>\n",
       "      <td>1.2</td>\n",
       "      <td>89.99</td>\n",
       "    </tr>\n",
       "    <tr>\n",
       "      <th>3</th>\n",
       "      <td>suco</td>\n",
       "      <td>76</td>\n",
       "      <td>3.0</td>\n",
       "      <td>119.99</td>\n",
       "    </tr>\n",
       "  </tbody>\n",
       "</table>\n",
       "</div>"
      ],
      "text/plain": [
       "   produto  quantidade  preco   custo\n",
       "0     coca         150    1.5  129.99\n",
       "1    pepsi         130    1.5  109.99\n",
       "2  guarana         100    1.2   89.99\n",
       "3     suco          76    3.0  119.99"
      ]
     },
     "execution_count": 5,
     "metadata": {},
     "output_type": "execute_result"
    }
   ],
   "source": [
    "#Transformar o dicionário de dados em um DataFrame;\n",
    "import pandas as pd\n",
    "\n",
    "df = pd.DataFrame(data=dicionario)\n",
    "df"
   ]
  },
  {
   "cell_type": "code",
   "execution_count": 6,
   "id": "1bfa86cb",
   "metadata": {},
   "outputs": [
    {
     "data": {
      "text/plain": [
       "4"
      ]
     },
     "execution_count": 6,
     "metadata": {},
     "output_type": "execute_result"
    }
   ],
   "source": [
    "#Quanto produtos eu tenho no total?\n",
    "df['produto'].nunique()"
   ]
  },
  {
   "cell_type": "code",
   "execution_count": 7,
   "id": "2c61343e",
   "metadata": {},
   "outputs": [
    {
     "name": "stdout",
     "output_type": "stream",
     "text": [
      " A Soma dos valores do custo foi:\n",
      "449.96000000000004\n"
     ]
    }
   ],
   "source": [
    "#Qual o custo total destes produtos?\n",
    "sums=df[\"custo\"].sum()\n",
    "print(\" A Soma dos valores do custo foi:\")\n",
    "print(sums)"
   ]
  },
  {
   "cell_type": "code",
   "execution_count": 8,
   "id": "e13f02eb",
   "metadata": {},
   "outputs": [
    {
     "data": {
      "text/html": [
       "<div>\n",
       "<style scoped>\n",
       "    .dataframe tbody tr th:only-of-type {\n",
       "        vertical-align: middle;\n",
       "    }\n",
       "\n",
       "    .dataframe tbody tr th {\n",
       "        vertical-align: top;\n",
       "    }\n",
       "\n",
       "    .dataframe thead th {\n",
       "        text-align: right;\n",
       "    }\n",
       "</style>\n",
       "<table border=\"1\" class=\"dataframe\">\n",
       "  <thead>\n",
       "    <tr style=\"text-align: right;\">\n",
       "      <th></th>\n",
       "      <th>produto</th>\n",
       "      <th>quantidade</th>\n",
       "      <th>preco</th>\n",
       "      <th>custo</th>\n",
       "      <th>qtde x preco</th>\n",
       "      <th>lucro</th>\n",
       "    </tr>\n",
       "  </thead>\n",
       "  <tbody>\n",
       "    <tr>\n",
       "      <th>0</th>\n",
       "      <td>coca</td>\n",
       "      <td>150</td>\n",
       "      <td>1.5</td>\n",
       "      <td>129.99</td>\n",
       "      <td>225.0</td>\n",
       "      <td>95.01</td>\n",
       "    </tr>\n",
       "    <tr>\n",
       "      <th>1</th>\n",
       "      <td>pepsi</td>\n",
       "      <td>130</td>\n",
       "      <td>1.5</td>\n",
       "      <td>109.99</td>\n",
       "      <td>195.0</td>\n",
       "      <td>85.01</td>\n",
       "    </tr>\n",
       "    <tr>\n",
       "      <th>2</th>\n",
       "      <td>guarana</td>\n",
       "      <td>100</td>\n",
       "      <td>1.2</td>\n",
       "      <td>89.99</td>\n",
       "      <td>120.0</td>\n",
       "      <td>30.01</td>\n",
       "    </tr>\n",
       "    <tr>\n",
       "      <th>3</th>\n",
       "      <td>suco</td>\n",
       "      <td>76</td>\n",
       "      <td>3.0</td>\n",
       "      <td>119.99</td>\n",
       "      <td>228.0</td>\n",
       "      <td>108.01</td>\n",
       "    </tr>\n",
       "  </tbody>\n",
       "</table>\n",
       "</div>"
      ],
      "text/plain": [
       "   produto  quantidade  preco   custo  qtde x preco   lucro\n",
       "0     coca         150    1.5  129.99         225.0   95.01\n",
       "1    pepsi         130    1.5  109.99         195.0   85.01\n",
       "2  guarana         100    1.2   89.99         120.0   30.01\n",
       "3     suco          76    3.0  119.99         228.0  108.01"
      ]
     },
     "execution_count": 8,
     "metadata": {},
     "output_type": "execute_result"
    }
   ],
   "source": [
    "#Quanto eu lucraria se vendesse todos os produtos (comparando com o custo)?\n",
    "\n",
    "df['qtde x preco'] = df['quantidade'] * df['preco']\n",
    "df[\"lucro\"] = df['qtde x preco'] - df['custo']\n",
    "df"
   ]
  },
  {
   "cell_type": "code",
   "execution_count": 9,
   "id": "5e785982",
   "metadata": {},
   "outputs": [
    {
     "data": {
      "text/html": [
       "<div>\n",
       "<style scoped>\n",
       "    .dataframe tbody tr th:only-of-type {\n",
       "        vertical-align: middle;\n",
       "    }\n",
       "\n",
       "    .dataframe tbody tr th {\n",
       "        vertical-align: top;\n",
       "    }\n",
       "\n",
       "    .dataframe thead th {\n",
       "        text-align: right;\n",
       "    }\n",
       "</style>\n",
       "<table border=\"1\" class=\"dataframe\">\n",
       "  <thead>\n",
       "    <tr style=\"text-align: right;\">\n",
       "      <th></th>\n",
       "      <th>produto</th>\n",
       "      <th>quantidade</th>\n",
       "      <th>preco</th>\n",
       "      <th>custo</th>\n",
       "      <th>qtde x preco</th>\n",
       "      <th>lucro</th>\n",
       "      <th>faturamento</th>\n",
       "    </tr>\n",
       "  </thead>\n",
       "  <tbody>\n",
       "    <tr>\n",
       "      <th>0</th>\n",
       "      <td>coca</td>\n",
       "      <td>150</td>\n",
       "      <td>1.5</td>\n",
       "      <td>129.99</td>\n",
       "      <td>225.0</td>\n",
       "      <td>95.01</td>\n",
       "      <td>225.0</td>\n",
       "    </tr>\n",
       "    <tr>\n",
       "      <th>1</th>\n",
       "      <td>pepsi</td>\n",
       "      <td>130</td>\n",
       "      <td>1.5</td>\n",
       "      <td>109.99</td>\n",
       "      <td>195.0</td>\n",
       "      <td>85.01</td>\n",
       "      <td>195.0</td>\n",
       "    </tr>\n",
       "    <tr>\n",
       "      <th>2</th>\n",
       "      <td>guarana</td>\n",
       "      <td>100</td>\n",
       "      <td>1.2</td>\n",
       "      <td>89.99</td>\n",
       "      <td>120.0</td>\n",
       "      <td>30.01</td>\n",
       "      <td>120.0</td>\n",
       "    </tr>\n",
       "    <tr>\n",
       "      <th>3</th>\n",
       "      <td>suco</td>\n",
       "      <td>76</td>\n",
       "      <td>3.0</td>\n",
       "      <td>119.99</td>\n",
       "      <td>228.0</td>\n",
       "      <td>108.01</td>\n",
       "      <td>228.0</td>\n",
       "    </tr>\n",
       "  </tbody>\n",
       "</table>\n",
       "</div>"
      ],
      "text/plain": [
       "   produto  quantidade  preco   custo  qtde x preco   lucro  faturamento\n",
       "0     coca         150    1.5  129.99         225.0   95.01        225.0\n",
       "1    pepsi         130    1.5  109.99         195.0   85.01        195.0\n",
       "2  guarana         100    1.2   89.99         120.0   30.01        120.0\n",
       "3     suco          76    3.0  119.99         228.0  108.01        228.0"
      ]
     },
     "execution_count": 9,
     "metadata": {},
     "output_type": "execute_result"
    }
   ],
   "source": [
    "#Qual o valor total de faturamento (vendendo todos os produtos)?\n",
    "df['faturamento'] = df['custo'] + df['lucro']\n",
    "df"
   ]
  },
  {
   "cell_type": "code",
   "execution_count": 10,
   "id": "69f1ccf8",
   "metadata": {},
   "outputs": [
    {
     "data": {
      "text/plain": [
       "produto\n",
       "suco    108.01\n",
       "Name: lucro, dtype: float64"
      ]
     },
     "execution_count": 10,
     "metadata": {},
     "output_type": "execute_result"
    }
   ],
   "source": [
    "#Qual produto eu obtive maior lucro?\n",
    "df.groupby(['produto'])['lucro'].sum().nlargest(1)"
   ]
  },
  {
   "cell_type": "code",
   "execution_count": 11,
   "id": "4ad41174",
   "metadata": {},
   "outputs": [
    {
     "data": {
      "text/plain": [
       "produto\n",
       "suco    228.0\n",
       "Name: faturamento, dtype: float64"
      ]
     },
     "execution_count": 11,
     "metadata": {},
     "output_type": "execute_result"
    }
   ],
   "source": [
    "#Qual produto eu obtive o maior faturamento?\n",
    "df.groupby(['produto'])['faturamento'].sum().nlargest(1)"
   ]
  },
  {
   "cell_type": "code",
   "execution_count": null,
   "id": "d9e5dbba",
   "metadata": {},
   "outputs": [],
   "source": []
  }
 ],
 "metadata": {
  "kernelspec": {
   "display_name": "Python 3",
   "language": "python",
   "name": "python3"
  },
  "language_info": {
   "codemirror_mode": {
    "name": "ipython",
    "version": 3
   },
   "file_extension": ".py",
   "mimetype": "text/x-python",
   "name": "python",
   "nbconvert_exporter": "python",
   "pygments_lexer": "ipython3",
   "version": "3.8.8"
  }
 },
 "nbformat": 4,
 "nbformat_minor": 5
}
